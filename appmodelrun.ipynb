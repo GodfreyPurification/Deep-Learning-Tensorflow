{
 "cells": [
  {
   "cell_type": "code",
   "execution_count": null,
   "id": "2b02b3ae-8ab7-4599-8be2-3cd7d222d8fb",
   "metadata": {},
   "outputs": [
    {
     "name": "stderr",
     "output_type": "stream",
     "text": [
      "WARNING:absl:No training configuration found in the save file, so the model was *not* compiled. Compile it manually.\n"
     ]
    },
    {
     "name": "stdout",
     "output_type": "stream",
     "text": [
      " * Serving Flask app '__main__'\n",
      " * Debug mode: on\n"
     ]
    },
    {
     "name": "stderr",
     "output_type": "stream",
     "text": [
      "INFO:werkzeug:\u001b[31m\u001b[1mWARNING: This is a development server. Do not use it in a production deployment. Use a production WSGI server instead.\u001b[0m\n",
      " * Running on http://127.0.0.1:5000\n",
      "INFO:werkzeug:\u001b[33mPress CTRL+C to quit\u001b[0m\n",
      "INFO:werkzeug: * Restarting with stat\n"
     ]
    }
   ],
   "source": [
    "import numpy as npp\n",
    "import os\n",
    "import sys\n",
    "import re \n",
    "import glob\n",
    "from tensorflow.keras.applications.vgg19 import VGG19, preprocess_input, decode_predictions\n",
    "from tensorflow.keras.preprocessing import image\n",
    "from tensorflow.keras.models import load_model\n",
    "from flask import Flask, request, render_template\n",
    "from werkzeug.utils import secure_filename\n",
    "import numpy as np\n",
    "import os\n",
    "\n",
    "# Flask utils\n",
    "# from flask import Flask, redirect, url_for, request, render_template\n",
    "# Define a flask app\n",
    "app = Flask(__name__)\n",
    "# model_path=\"D://NLP//NLPCOMPLETE//vgg19.h5\"\n",
    "model_path=\"vgg19.h5\"\n",
    "\n",
    "## load model  \n",
    "model = load_model(model_path)\n",
    "model.make_predict_function()          # Necessary\n",
    "## preprocessing function\n",
    "def model_predict(img_path, model):\n",
    "    img = image.load_img(img_path, target_size=(224, 224))\n",
    "    ##Preprocessing the image\n",
    "    x = image.img_to_array(img)\n",
    "    ## x= np.true_divide(x, 255.0) # Normalize the image\n",
    "    x = np.expand_dims(x, axis=0)\n",
    "    x= preprocess_input(x)  # Preprocess the image for VGG19\n",
    "    \"\"\"\" Be careful how your trained model deals with the input.\n",
    "        otherwie it wonts make correct predictions\"\"\"\n",
    "    preds = model.predict(x)\n",
    "    return preds\n",
    "\n",
    "@app.route('/', methods=['GET'])\n",
    "def index():\n",
    "    return render_template('index.html')\n",
    "\n",
    "@app.route('/predict', methods=['GET','POST'])\n",
    "def upload():\n",
    "    if request.method == 'POST':\n",
    "        # Get the uploaded file\n",
    "        f = request.files['file']\n",
    "        # Save the file to a temporary location\n",
    "        basepath = os.path.dirname(__file__)  # Current directory\n",
    "        file_path = os.path.join(\n",
    "            basepath, 'uploads', secure_filename(f.filename))\n",
    "        f.save(file_path)\n",
    "        # Make prediction\n",
    "        pred = model_predict(file_path, model)\n",
    "        ## Here we make you     predictions\n",
    "        pred_class=decode_predictions(pred, top=1)\n",
    "        result = str(pred_class[0][0][1]) \n",
    "        # Return the result\n",
    "        return result\n",
    "    return None\n",
    "        \n",
    "\n",
    "if __name__=='__main__': \n",
    "    app.run(debug=True)\n",
    "\n",
    "    "
   ]
  },
  {
   "cell_type": "code",
   "execution_count": null,
   "id": "1675e661-b846-4e32-95a5-b6c76db0745f",
   "metadata": {},
   "outputs": [],
   "source": []
  }
 ],
 "metadata": {
  "kernelspec": {
   "display_name": "env_nlp3.11",
   "language": "python",
   "name": "env_nlp3.11"
  },
  "language_info": {
   "codemirror_mode": {
    "name": "ipython",
    "version": 3
   },
   "file_extension": ".py",
   "mimetype": "text/x-python",
   "name": "python",
   "nbconvert_exporter": "python",
   "pygments_lexer": "ipython3",
   "version": "3.11.9"
  },
  "widgets": {
   "application/vnd.jupyter.widget-state+json": {
    "state": {},
    "version_major": 2,
    "version_minor": 0
   }
  }
 },
 "nbformat": 4,
 "nbformat_minor": 5
}
